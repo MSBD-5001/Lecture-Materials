{
 "cells": [
  {
   "cell_type": "code",
   "execution_count": 1,
   "metadata": {},
   "outputs": [],
   "source": [
    "%matplotlib inline"
   ]
  },
  {
   "cell_type": "markdown",
   "metadata": {},
   "source": [
    "\n",
    "Datasets & DataLoaders\n",
    "===================\n",
    "\n",
    "\n"
   ]
  },
  {
   "cell_type": "markdown",
   "metadata": {},
   "source": [
    "PyTorch provides two data primitives: ``torch.utils.data.DataLoader`` and ``torch.utils.data.Dataset``\n",
    "that allow you to use pre-loaded datasets as well as your own data.\n",
    "``Dataset`` stores the samples and their corresponding labels, and ``DataLoader`` wraps an iterable around\n",
    "the ``Dataset`` to enable easy access to the samples.\n"
   ]
  },
  {
   "cell_type": "markdown",
   "metadata": {},
   "source": [
    "Loading a Dataset\n",
    "-------------------\n",
    "PyTorch domain libraries provide a number of pre-loaded datasets (such as FashionMNIST) that subclass torch.utils.data.Dataset: `torchvision.datasets`, `torchtext.datasets` and `torchaudio.datasets`.\n",
    "\n",
    "Here is an example of how to load the Fashion-MNIST dataset from TorchVision.\n",
    "Fashion-MNIST is a dataset of Zalando’s article images consisting of 60,000 training examples and 10,000 test examples.\n",
    "Each example comprises a 28×28 grayscale image and an associated label from one of 10 classes.\n",
    "\n",
    "We load the `FashionMNIST Dataset <https://pytorch.org/vision/stable/datasets.html#fashion-mnist>`_ with the following parameters:\n",
    " - ``root`` is the path where the train/test data is stored,\n",
    " - ``train`` specifies training or test dataset,\n",
    " - ``download=True`` downloads the data from the internet if it's not available at ``root``.\n",
    " - ``transform`` and ``target_transform`` specify the feature and label transformations\n",
    "\n"
   ]
  },
  {
   "cell_type": "code",
   "execution_count": 1,
   "metadata": {},
   "outputs": [],
   "source": [
    "import torch\n",
    "from torch.utils.data import Dataset\n",
    "from torchvision import datasets\n",
    "import matplotlib.pyplot as plt\n",
    "\n",
    "\n",
    "training_data = datasets.FashionMNIST(\n",
    "    root=\"data\",\n",
    "    train=True,\n",
    "    download=True,\n",
    "    transform=None,\n",
    ")\n",
    "\n",
    "test_data = datasets.FashionMNIST(\n",
    "    root=\"data\",\n",
    "    train=False,\n",
    "    download=True,\n",
    "    transform=None,\n",
    ")"
   ]
  },
  {
   "cell_type": "code",
   "execution_count": 2,
   "metadata": {},
   "outputs": [
    {
     "data": {
      "text/plain": [
       "Dataset FashionMNIST\n",
       "    Number of datapoints: 60000\n",
       "    Root location: data\n",
       "    Split: Train"
      ]
     },
     "execution_count": 2,
     "metadata": {},
     "output_type": "execute_result"
    }
   ],
   "source": [
    "training_data"
   ]
  },
  {
   "cell_type": "code",
   "execution_count": 3,
   "metadata": {},
   "outputs": [
    {
     "data": {
      "text/plain": [
       "Dataset FashionMNIST\n",
       "    Number of datapoints: 10000\n",
       "    Root location: data\n",
       "    Split: Test"
      ]
     },
     "execution_count": 3,
     "metadata": {},
     "output_type": "execute_result"
    }
   ],
   "source": [
    "test_data"
   ]
  },
  {
   "cell_type": "markdown",
   "metadata": {},
   "source": [
    "Iterating and Visualizing the Dataset\n",
    "-----------------\n",
    "\n",
    "We can index ``Datasets`` manually like a list: ``training_data[index]``.\n",
    "We use ``matplotlib`` to visualize some samples in our training data.\n",
    "\n"
   ]
  },
  {
   "cell_type": "code",
   "execution_count": 4,
   "metadata": {},
   "outputs": [
    {
     "data": {
      "image/png": "[encoded data removed]",
      "text/plain": [
       "<Figure size 576x576 with 9 Axes>"
      ]
     },
     "metadata": {
      "needs_background": "light"
     },
     "output_type": "display_data"
    }
   ],
   "source": [
    "labels_map = {\n",
    "    0: \"T-Shirt\",\n",
    "    1: \"Trouser\",\n",
    "    2: \"Pullover\",\n",
    "    3: \"Dress\",\n",
    "    4: \"Coat\",\n",
    "    5: \"Sandal\",\n",
    "    6: \"Shirt\",\n",
    "    7: \"Sneaker\",\n",
    "    8: \"Bag\",\n",
    "    9: \"Ankle Boot\",\n",
    "}\n",
    "figure = plt.figure(figsize=(8, 8))\n",
    "cols, rows = 3, 3\n",
    "for i in range(1, cols * rows + 1):\n",
    "    sample_idx = torch.randint(len(training_data), size=(1,)).item()\n",
    "    img, label = training_data[sample_idx]\n",
    "    figure.add_subplot(rows, cols, i)\n",
    "    plt.title(labels_map[label])\n",
    "    plt.axis(\"off\")\n",
    "    plt.imshow(img, cmap=\"gray\")\n",
    "plt.show()"
   ]
  },
  {
   "cell_type": "markdown",
   "metadata": {},
   "source": [
    "..\n",
    " .. figure:: /_static/img/basics/fashion_mnist.png\n",
    "   :alt: fashion_mnist\n",
    "\n"
   ]
  },
  {
   "cell_type": "markdown",
   "metadata": {},
   "source": [
    "--------------\n",
    "\n",
    "\n"
   ]
  },
  {
   "cell_type": "markdown",
   "metadata": {},
   "source": [
    "Creating a Custom Dataset for your files\n",
    "---------------------------------------------------\n",
    "\n",
    "A custom Dataset class must implement three functions: `__init__`, `__len__`, and `__getitem__`.\n"
   ]
  },
  {
   "cell_type": "code",
   "execution_count": 6,
   "metadata": {},
   "outputs": [],
   "source": [
    "import os\n",
    "from PIL import Image\n",
    "\n",
    "class CustomImageDataset(Dataset):\n",
    "    def __init__(self, img_dir, transform=None, target_transform=None):  \n",
    "        self.img_dir = img_dir\n",
    "        self.transform = transform\n",
    "        self.target_transform = target_transform\n",
    "        # load the files \n",
    "        filenames = []\n",
    "        labels = []\n",
    "        for filename in os.listdir(img_dir):\n",
    "            filenames.append(filename)\n",
    "            if filename.startswith(\"bird\"):\n",
    "                labels.append(0)\n",
    "            elif filename.startswith(\"cat\"):\n",
    "                labels.append(1)\n",
    "            elif filename.startswith(\"dog\"):\n",
    "                labels.append(2)\n",
    "        self.filenames = filenames\n",
    "        self.labels = labels\n",
    "\n",
    "    def __len__(self):\n",
    "        return len(self.filenames)\n",
    "\n",
    "    def __getitem__(self, idx):\n",
    "        img_path = os.path.join(self.img_dir, self.filenames[idx])\n",
    "        image = Image.open(img_path)\n",
    "        label = self.labels[idx]\n",
    "        if self.transform:\n",
    "            image = self.transform(image)\n",
    "        if self.target_transform:\n",
    "            label = self.target_transform(label)\n",
    "        return image, label"
   ]
  },
  {
   "cell_type": "code",
   "execution_count": 13,
   "metadata": {},
   "outputs": [],
   "source": [
    "from torchvision.transforms import Resize, ToTensor, Compose\n",
    "\n",
    "pet_dataset = CustomImageDataset(\"./data/pets\", transform = Compose([Resize((32,32)), ToTensor()]))\n",
    "# pet_dataset = CustomImageDataset(\"./data/pets\", transform = ToTensor()) "
   ]
  },
  {
   "cell_type": "code",
   "execution_count": 14,
   "metadata": {},
   "outputs": [
    {
     "data": {
      "text/plain": [
       "(tensor([[[0.8118, 0.8314, 0.8471,  ..., 0.8706, 0.8706, 0.8745],\n",
       "          [0.8157, 0.8353, 0.8510,  ..., 0.8706, 0.8745, 0.8824],\n",
       "          [0.8235, 0.8431, 0.8510,  ..., 0.8745, 0.8784, 0.8824],\n",
       "          ...,\n",
       "          [0.8353, 0.8510, 0.8627,  ..., 0.8941, 0.8941, 0.8941],\n",
       "          [0.8353, 0.8549, 0.8667,  ..., 0.8980, 0.8980, 0.9020],\n",
       "          [0.8353, 0.8549, 0.8745,  ..., 0.9059, 0.9098, 0.9098]],\n",
       " \n",
       "         [[0.3569, 0.3765, 0.3922,  ..., 0.4235, 0.4235, 0.4275],\n",
       "          [0.3608, 0.3804, 0.3961,  ..., 0.4235, 0.4275, 0.4353],\n",
       "          [0.3686, 0.3882, 0.3961,  ..., 0.4275, 0.4314, 0.4353],\n",
       "          ...,\n",
       "          [0.3804, 0.3961, 0.4078,  ..., 0.4667, 0.4667, 0.4667],\n",
       "          [0.3804, 0.4000, 0.4118,  ..., 0.4824, 0.4824, 0.4784],\n",
       "          [0.3804, 0.4000, 0.4196,  ..., 0.4902, 0.4941, 0.4863]],\n",
       " \n",
       "         [[0.5490, 0.5686, 0.5843,  ..., 0.6235, 0.6235, 0.6275],\n",
       "          [0.5529, 0.5725, 0.5882,  ..., 0.6235, 0.6275, 0.6353],\n",
       "          [0.5608, 0.5804, 0.5882,  ..., 0.6275, 0.6314, 0.6353],\n",
       "          ...,\n",
       "          [0.5725, 0.5882, 0.6000,  ..., 0.6549, 0.6549, 0.6588],\n",
       "          [0.5725, 0.5922, 0.6039,  ..., 0.6627, 0.6667, 0.6706],\n",
       "          [0.5725, 0.5922, 0.6118,  ..., 0.6706, 0.6745, 0.6784]]]),\n",
       " 2)"
      ]
     },
     "execution_count": 14,
     "metadata": {},
     "output_type": "execute_result"
    }
   ],
   "source": [
    "pet_dataset[1]"
   ]
  },
  {
   "cell_type": "code",
   "execution_count": 15,
   "metadata": {},
   "outputs": [
    {
     "name": "stdout",
     "output_type": "stream",
     "text": [
      "type of the image:  <class 'torch.Tensor'>\n",
      "label: 2\n"
     ]
    },
    {
     "data": {
      "image/png": "[encoded data removed]",
      "text/plain": [
       "<Figure size 576x576 with 1 Axes>"
      ]
     },
     "metadata": {
      "needs_background": "light"
     },
     "output_type": "display_data"
    }
   ],
   "source": [
    "from torchvision.transforms import ToPILImage\n",
    "\n",
    "raw_image, label = pet_dataset[1]\n",
    "figure = plt.figure(figsize=(8, 8))\n",
    "print(\"type of the image: \", type(raw_image))\n",
    "if type(raw_image) == torch.Tensor:\n",
    "    plt.imshow(ToPILImage()(raw_image))\n",
    "else:\n",
    "    plt.imshow(raw_image)\n",
    "    \n",
    "print(f\"label: {label}\")"
   ]
  },
  {
   "cell_type": "code",
   "execution_count": 16,
   "metadata": {},
   "outputs": [
    {
     "data": {
      "text/plain": [
       "torch.Size([3, 32, 32])"
      ]
     },
     "execution_count": 16,
     "metadata": {},
     "output_type": "execute_result"
    }
   ],
   "source": [
    "raw_image.shape"
   ]
  },
  {
   "cell_type": "markdown",
   "metadata": {},
   "source": [
    "Preparing your data for training with DataLoaders\n",
    "-------------------------------------------------\n",
    "The ``Dataset`` retrieves our dataset's features and labels one sample at a time. While training a model, we typically want to\n",
    "pass samples in \"minibatches\", reshuffle the data at every epoch to reduce model overfitting, and use Python's ``multiprocessing`` to\n",
    "speed up data retrieval.\n",
    "\n",
    "``DataLoader`` is an iterable that abstracts this complexity for us in an easy API.\n",
    "\n"
   ]
  },
  {
   "cell_type": "code",
   "execution_count": 17,
   "metadata": {},
   "outputs": [],
   "source": [
    "from torch.utils.data import DataLoader\n",
    "\n",
    "pet_dataloader = DataLoader(pet_dataset, batch_size=12, shuffle=True)"
   ]
  },
  {
   "cell_type": "markdown",
   "metadata": {},
   "source": [
    "Iterate through the DataLoader\n",
    "--------------------------"
   ]
  },
  {
   "cell_type": "code",
   "execution_count": 18,
   "metadata": {},
   "outputs": [
    {
     "name": "stdout",
     "output_type": "stream",
     "text": [
      "Feature batch shape: torch.Size([12, 3, 32, 32])\n",
      "tensor([0, 2, 1, 1, 2, 2, 1, 1, 2, 2, 0, 1])\n",
      "Feature batch shape: torch.Size([12, 3, 32, 32])\n",
      "tensor([2, 1, 1, 0, 2, 2, 1, 2, 2, 2, 1, 0])\n",
      "Feature batch shape: torch.Size([12, 3, 32, 32])\n",
      "tensor([0, 0, 2, 1, 0, 1, 0, 0, 0, 0, 1, 0])\n",
      "Feature batch shape: torch.Size([12, 3, 32, 32])\n",
      "tensor([2, 2, 0, 0, 2, 1, 2, 2, 0, 0, 2, 1])\n",
      "Feature batch shape: torch.Size([12, 3, 32, 32])\n",
      "tensor([2, 0, 2, 1, 2, 2, 2, 1, 1, 1, 0, 0])\n",
      "Feature batch shape: torch.Size([12, 3, 32, 32])\n",
      "tensor([2, 1, 1, 0, 1, 1, 1, 1, 2, 0, 0, 0])\n",
      "Feature batch shape: torch.Size([12, 3, 32, 32])\n",
      "tensor([2, 2, 2, 2, 0, 1, 0, 1, 2, 2, 0, 0])\n",
      "Feature batch shape: torch.Size([12, 3, 32, 32])\n",
      "tensor([0, 0, 0, 2, 2, 1, 1, 0, 1, 1, 0, 1])\n",
      "Feature batch shape: torch.Size([12, 3, 32, 32])\n",
      "tensor([1, 1, 2, 1, 0, 0, 1, 2, 1, 0, 2, 2])\n",
      "Feature batch shape: torch.Size([12, 3, 32, 32])\n",
      "tensor([0, 2, 0, 0, 1, 0, 2, 0, 2, 1, 1, 1])\n"
     ]
    }
   ],
   "source": [
    "for feature, label in pet_dataloader:\n",
    "    print(f\"Feature batch shape: {feature.size()}\")\n",
    "    print(label)"
   ]
  },
  {
   "cell_type": "code",
   "execution_count": 19,
   "metadata": {},
   "outputs": [
    {
     "name": "stdout",
     "output_type": "stream",
     "text": [
      "Feature batch shape: torch.Size([12, 3, 32, 32])\n",
      "Labels batch shape: torch.Size([12])\n"
     ]
    },
    {
     "data": {
      "image/png": "[encoded data removed]",
      "text/plain": [
       "<Figure size 432x288 with 1 Axes>"
      ]
     },
     "metadata": {
      "needs_background": "light"
     },
     "output_type": "display_data"
    },
    {
     "name": "stdout",
     "output_type": "stream",
     "text": [
      "Label: 2\n"
     ]
    }
   ],
   "source": [
    "# Display image and label.\n",
    "train_features, train_labels = next(iter(pet_dataloader))\n",
    "print(f\"Feature batch shape: {train_features.size()}\")\n",
    "print(f\"Labels batch shape: {train_labels.size()}\")\n",
    "img = ToPILImage()(train_features[0])\n",
    "label = train_labels[0]\n",
    "plt.imshow(img)\n",
    "plt.show()\n",
    "print(f\"Label: {label}\")"
   ]
  },
  {
   "cell_type": "code",
   "execution_count": 21,
   "metadata": {},
   "outputs": [
    {
     "data": {
      "text/plain": [
       "tensor([[[[0.4471, 0.4824, 0.4314,  ..., 0.6039, 0.5804, 0.5412],\n",
       "          [0.3686, 0.4118, 0.4118,  ..., 0.6078, 0.5294, 0.5137],\n",
       "          [0.3569, 0.3569, 0.3686,  ..., 0.6784, 0.6118, 0.5451],\n",
       "          ...,\n",
       "          [0.5176, 0.5647, 0.6039,  ..., 0.3529, 0.3765, 0.3216],\n",
       "          [0.5490, 0.5922, 0.5961,  ..., 0.3804, 0.3843, 0.3569],\n",
       "          [0.5647, 0.6196, 0.6549,  ..., 0.4118, 0.4157, 0.3804]],\n",
       "\n",
       "         [[0.4667, 0.5098, 0.4902,  ..., 0.6471, 0.6275, 0.6157],\n",
       "          [0.4353, 0.4902, 0.4980,  ..., 0.6745, 0.6157, 0.5961],\n",
       "          [0.4431, 0.4549, 0.4824,  ..., 0.7059, 0.6745, 0.6314],\n",
       "          ...,\n",
       "          [0.5020, 0.5176, 0.5529,  ..., 0.4745, 0.4863, 0.4510],\n",
       "          [0.5490, 0.5647, 0.5529,  ..., 0.4902, 0.4902, 0.4706],\n",
       "          [0.5412, 0.5608, 0.6039,  ..., 0.5137, 0.5216, 0.4824]],\n",
       "\n",
       "         [[0.1922, 0.2235, 0.2196,  ..., 0.3098, 0.2941, 0.2824],\n",
       "          [0.1569, 0.1961, 0.2157,  ..., 0.3412, 0.2784, 0.2627],\n",
       "          [0.1647, 0.1647, 0.1922,  ..., 0.3961, 0.3529, 0.2980],\n",
       "          ...,\n",
       "          [0.2314, 0.2549, 0.2941,  ..., 0.1686, 0.1804, 0.1412],\n",
       "          [0.2745, 0.3020, 0.2980,  ..., 0.1882, 0.2000, 0.1804],\n",
       "          [0.2745, 0.3137, 0.3529,  ..., 0.2157, 0.2235, 0.2039]]],\n",
       "\n",
       "\n",
       "        [[[0.9451, 0.9333, 0.9451,  ..., 0.9176, 0.8431, 0.8235],\n",
       "          [0.9451, 0.9333, 0.9451,  ..., 0.8745, 0.8392, 0.8275],\n",
       "          [0.9412, 0.9294, 0.9451,  ..., 0.7961, 0.8392, 0.8353],\n",
       "          ...,\n",
       "          [0.9529, 0.8941, 0.7922,  ..., 0.5098, 0.6000, 0.7255],\n",
       "          [0.9176, 0.9059, 0.8157,  ..., 0.4941, 0.5098, 0.5451],\n",
       "          [0.9059, 0.9333, 0.8353,  ..., 0.4627, 0.4941, 0.4980]],\n",
       "\n",
       "         [[0.9490, 0.9373, 0.9490,  ..., 0.9216, 0.8392, 0.8039],\n",
       "          [0.9490, 0.9373, 0.9490,  ..., 0.8863, 0.8353, 0.8118],\n",
       "          [0.9451, 0.9333, 0.9490,  ..., 0.7961, 0.8196, 0.8196],\n",
       "          ...,\n",
       "          [0.9569, 0.8980, 0.7961,  ..., 0.5059, 0.6039, 0.7451],\n",
       "          [0.9216, 0.9098, 0.8157,  ..., 0.4902, 0.5059, 0.5490],\n",
       "          [0.9098, 0.9373, 0.8353,  ..., 0.4588, 0.4784, 0.4706]],\n",
       "\n",
       "         [[0.9569, 0.9451, 0.9569,  ..., 0.9216, 0.8314, 0.8039],\n",
       "          [0.9569, 0.9451, 0.9569,  ..., 0.8745, 0.8275, 0.8078],\n",
       "          [0.9529, 0.9412, 0.9569,  ..., 0.7804, 0.7961, 0.8039],\n",
       "          ...,\n",
       "          [0.9647, 0.9059, 0.7882,  ..., 0.4941, 0.5922, 0.7412],\n",
       "          [0.9294, 0.9137, 0.8118,  ..., 0.4784, 0.4863, 0.5216],\n",
       "          [0.9176, 0.9451, 0.8353,  ..., 0.4588, 0.4706, 0.4392]]],\n",
       "\n",
       "\n",
       "        [[[0.0627, 0.0510, 0.0510,  ..., 0.5961, 0.5804, 0.5608],\n",
       "          [0.0627, 0.0549, 0.0510,  ..., 0.5490, 0.5137, 0.4824],\n",
       "          [0.0549, 0.0549, 0.0549,  ..., 0.4549, 0.4118, 0.3882],\n",
       "          ...,\n",
       "          [0.4706, 0.4784, 0.4863,  ..., 0.1569, 0.1608, 0.1608],\n",
       "          [0.4549, 0.4588, 0.4706,  ..., 0.1216, 0.1216, 0.0980],\n",
       "          [0.4314, 0.4353, 0.4431,  ..., 0.0980, 0.1020, 0.0824]],\n",
       "\n",
       "         [[0.1176, 0.1216, 0.1255,  ..., 0.6118, 0.5882, 0.5686],\n",
       "          [0.1176, 0.1255, 0.1294,  ..., 0.5725, 0.5373, 0.5059],\n",
       "          [0.1255, 0.1294, 0.1333,  ..., 0.4980, 0.4588, 0.4353],\n",
       "          ...,\n",
       "          [0.4980, 0.5059, 0.5137,  ..., 0.0784, 0.0784, 0.0863],\n",
       "          [0.4824, 0.4863, 0.4980,  ..., 0.0510, 0.0510, 0.0392],\n",
       "          [0.4588, 0.4627, 0.4706,  ..., 0.0431, 0.0431, 0.0353]],\n",
       "\n",
       "         [[0.0902, 0.0902, 0.0980,  ..., 0.4863, 0.4667, 0.4588],\n",
       "          [0.0902, 0.0941, 0.1020,  ..., 0.4471, 0.4235, 0.4078],\n",
       "          [0.0941, 0.0941, 0.1020,  ..., 0.3922, 0.3647, 0.3451],\n",
       "          ...,\n",
       "          [0.3765, 0.3843, 0.3922,  ..., 0.0235, 0.0235, 0.0196],\n",
       "          [0.3608, 0.3647, 0.3765,  ..., 0.0196, 0.0235, 0.0118],\n",
       "          [0.3373, 0.3412, 0.3490,  ..., 0.0118, 0.0235, 0.0157]]],\n",
       "\n",
       "\n",
       "        ...,\n",
       "\n",
       "\n",
       "        [[[0.6980, 0.7843, 0.7412,  ..., 0.5333, 0.6941, 0.6784],\n",
       "          [0.6980, 0.7412, 0.7412,  ..., 0.5333, 0.6941, 0.6471],\n",
       "          [0.7294, 0.6706, 0.6353,  ..., 0.5294, 0.6941, 0.6235],\n",
       "          ...,\n",
       "          [0.7333, 0.7255, 0.7294,  ..., 0.6627, 0.6627, 0.6353],\n",
       "          [0.7451, 0.7373, 0.7373,  ..., 0.6706, 0.6549, 0.6353],\n",
       "          [0.7451, 0.7412, 0.7569,  ..., 0.6588, 0.6510, 0.6431]],\n",
       "\n",
       "         [[0.6314, 0.7137, 0.6667,  ..., 0.3647, 0.6118, 0.6235],\n",
       "          [0.6392, 0.6784, 0.6314,  ..., 0.3647, 0.6157, 0.5882],\n",
       "          [0.6627, 0.5020, 0.3255,  ..., 0.3608, 0.6196, 0.5490],\n",
       "          ...,\n",
       "          [0.2667, 0.2627, 0.2706,  ..., 0.2039, 0.2078, 0.1882],\n",
       "          [0.2784, 0.2706, 0.2706,  ..., 0.2157, 0.2039, 0.1882],\n",
       "          [0.2784, 0.2745, 0.2824,  ..., 0.2118, 0.2039, 0.1961]],\n",
       "\n",
       "         [[0.6000, 0.6745, 0.6235,  ..., 0.2471, 0.5529, 0.5843],\n",
       "          [0.6039, 0.6314, 0.5882,  ..., 0.2431, 0.5569, 0.5373],\n",
       "          [0.6353, 0.4745, 0.2941,  ..., 0.2471, 0.5569, 0.4980],\n",
       "          ...,\n",
       "          [0.2353, 0.2314, 0.2353,  ..., 0.1647, 0.1686, 0.1451],\n",
       "          [0.2471, 0.2392, 0.2353,  ..., 0.1725, 0.1608, 0.1451],\n",
       "          [0.2471, 0.2431, 0.2510,  ..., 0.1686, 0.1608, 0.1529]]],\n",
       "\n",
       "\n",
       "        [[[0.2235, 0.2392, 0.2471,  ..., 0.2824, 0.2863, 0.2784],\n",
       "          [0.2549, 0.2824, 0.2980,  ..., 0.3451, 0.3412, 0.3333],\n",
       "          [0.2588, 0.3020, 0.3333,  ..., 0.3961, 0.3882, 0.3804],\n",
       "          ...,\n",
       "          [0.7961, 0.8000, 0.7961,  ..., 0.5216, 0.6000, 0.6784],\n",
       "          [0.8314, 0.8314, 0.8275,  ..., 0.4471, 0.4902, 0.5608],\n",
       "          [0.8471, 0.8471, 0.8431,  ..., 0.4000, 0.4235, 0.4863]],\n",
       "\n",
       "         [[0.1843, 0.2000, 0.2078,  ..., 0.2471, 0.2471, 0.2392],\n",
       "          [0.2157, 0.2431, 0.2588,  ..., 0.3059, 0.3020, 0.2941],\n",
       "          [0.2353, 0.2706, 0.2941,  ..., 0.3569, 0.3451, 0.3373],\n",
       "          ...,\n",
       "          [0.7725, 0.7804, 0.7765,  ..., 0.5373, 0.6000, 0.6784],\n",
       "          [0.8078, 0.8078, 0.8039,  ..., 0.4863, 0.5137, 0.5725],\n",
       "          [0.8235, 0.8235, 0.8196,  ..., 0.4549, 0.4706, 0.5216]],\n",
       "\n",
       "         [[0.2196, 0.2353, 0.2471,  ..., 0.2863, 0.2824, 0.2745],\n",
       "          [0.2510, 0.2784, 0.2902,  ..., 0.3373, 0.3373, 0.3294],\n",
       "          [0.2627, 0.3020, 0.3216,  ..., 0.3765, 0.3725, 0.3725],\n",
       "          ...,\n",
       "          [0.6588, 0.6667, 0.6706,  ..., 0.5137, 0.5765, 0.6392],\n",
       "          [0.7059, 0.7059, 0.7020,  ..., 0.4941, 0.5294, 0.5647],\n",
       "          [0.7216, 0.7216, 0.7176,  ..., 0.4745, 0.5059, 0.5333]]],\n",
       "\n",
       "\n",
       "        [[[0.4471, 0.4353, 0.4275,  ..., 0.4314, 0.4353, 0.4392],\n",
       "          [0.4235, 0.4000, 0.3922,  ..., 0.4039, 0.3961, 0.3882],\n",
       "          [0.3843, 0.3804, 0.3804,  ..., 0.3961, 0.4000, 0.4196],\n",
       "          ...,\n",
       "          [0.1608, 0.1608, 0.1451,  ..., 0.5059, 0.4627, 0.3451],\n",
       "          [0.1608, 0.1569, 0.1412,  ..., 0.4549, 0.3804, 0.3647],\n",
       "          [0.1725, 0.1608, 0.1451,  ..., 0.4824, 0.3725, 0.4039]],\n",
       "\n",
       "         [[0.5569, 0.5490, 0.5412,  ..., 0.5294, 0.5373, 0.5412],\n",
       "          [0.5294, 0.5098, 0.5059,  ..., 0.4902, 0.4941, 0.4824],\n",
       "          [0.4863, 0.4824, 0.4784,  ..., 0.4863, 0.4902, 0.5098],\n",
       "          ...,\n",
       "          [0.1216, 0.1216, 0.1098,  ..., 0.5686, 0.5059, 0.3961],\n",
       "          [0.1216, 0.1176, 0.1098,  ..., 0.5176, 0.4353, 0.4157],\n",
       "          [0.1333, 0.1216, 0.1137,  ..., 0.5529, 0.4431, 0.4667]],\n",
       "\n",
       "         [[0.4000, 0.3765, 0.3725,  ..., 0.3922, 0.3608, 0.3529],\n",
       "          [0.3922, 0.3529, 0.3451,  ..., 0.3725, 0.3490, 0.3255],\n",
       "          [0.3490, 0.3255, 0.3255,  ..., 0.3686, 0.3765, 0.4039],\n",
       "          ...,\n",
       "          [0.0863, 0.0863, 0.0863,  ..., 0.5098, 0.4667, 0.3529],\n",
       "          [0.0863, 0.0824, 0.0863,  ..., 0.4314, 0.3765, 0.3765],\n",
       "          [0.0980, 0.0863, 0.0863,  ..., 0.4392, 0.3608, 0.4275]]]])"
      ]
     },
     "execution_count": 21,
     "metadata": {},
     "output_type": "execute_result"
    }
   ],
   "source": [
    "train_features"
   ]
  },
  {
   "cell_type": "code",
   "execution_count": null,
   "metadata": {},
   "outputs": [],
   "source": []
  },
  {
   "cell_type": "code",
   "execution_count": null,
   "metadata": {},
   "outputs": [],
   "source": []
  }
 ],
 "metadata": {
  "kernelspec": {
   "display_name": "Python 3 (ipykernel)",
   "language": "python",
   "name": "python3"
  },
  "language_info": {
   "codemirror_mode": {
    "name": "ipython",
    "version": 3
   },
   "file_extension": ".py",
   "mimetype": "text/x-python",
   "name": "python",
   "nbconvert_exporter": "python",
   "pygments_lexer": "ipython3",
   "version": "3.8.12"
  }
 },
 "nbformat": 4,
 "nbformat_minor": 1
}
