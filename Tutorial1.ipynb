{
 "cells": [
  {
   "cell_type": "code",
   "execution_count": 1,
   "metadata": {},
   "outputs": [
    {
     "name": "stdout",
     "output_type": "stream",
     "text": [
      "Welcome to MSBD 5001!\n"
     ]
    }
   ],
   "source": [
    "# print functions\n",
    "# The content after # is comment, will not be executed\n",
    "print (\"Welcome to MSBD 5001!\")"
   ]
  },
  {
   "cell_type": "markdown",
   "metadata": {},
   "source": [
    "Primitive data types and operations"
   ]
  },
  {
   "cell_type": "code",
   "execution_count": null,
   "metadata": {},
   "outputs": [],
   "source": [
    "a = 3\n",
    "b = 1.2\n",
    "c, d = \"MSBD\", \"5001\"\n",
    "e = True\n",
    "print(type(a),type(b),type(c),type(d),type(e))"
   ]
  },
  {
   "cell_type": "code",
   "execution_count": null,
   "metadata": {},
   "outputs": [],
   "source": [
    "result = a + b\n",
    "print(result)\n",
    "result2 = a * b\n",
    "print(result2)\n",
    "result3 = a == b\n",
    "print(result3)\n",
    "result4 = c + d\n",
    "print(result4)\n",
    "result5 = not e \n",
    "print(result5)"
   ]
  },
  {
   "cell_type": "markdown",
   "metadata": {},
   "source": [
    "Data structures: list and dictionary"
   ]
  },
  {
   "cell_type": "code",
   "execution_count": null,
   "metadata": {},
   "outputs": [],
   "source": [
    "d = [1,2,3,\"asdf\",1.2]\n",
    "d.pop()\n",
    "print (d)\n",
    "d.append(3)\n",
    "print (d)\n",
    "print (d[0])\n",
    "print(len(d))"
   ]
  },
  {
   "cell_type": "code",
   "execution_count": null,
   "metadata": {},
   "outputs": [],
   "source": [
    "# Basic operations on key\n",
    "e = {\"Kai Chen\": 3509, \"Cecia Chan\": 3525}\n",
    "print (e[\"Kai Chen\"])\n",
    "e[\"Kai Chen\"] = 3510\n",
    "print (e)\n",
    "print (e.keys())\n",
    "print (e.values())"
   ]
  },
  {
   "cell_type": "markdown",
   "metadata": {},
   "source": [
    "Control flow"
   ]
  },
  {
   "cell_type": "code",
   "execution_count": null,
   "metadata": {},
   "outputs": [],
   "source": [
    "a = 3\n",
    "if a == 4:\n",
    "    print(\"Equal.\")\n",
    "else:\n",
    "    print(\"Not equal.\")    "
   ]
  },
  {
   "cell_type": "code",
   "execution_count": null,
   "metadata": {},
   "outputs": [],
   "source": [
    "while a != 10:\n",
    "    a = a + 1\n",
    "    print(\"Now a is \", a)"
   ]
  },
  {
   "cell_type": "code",
   "execution_count": null,
   "metadata": {},
   "outputs": [],
   "source": [
    "d = [1,2,3,4]\n",
    "for element in d:\n",
    "    print(element)"
   ]
  },
  {
   "cell_type": "markdown",
   "metadata": {},
   "source": [
    "Define and call a function"
   ]
  },
  {
   "cell_type": "code",
   "execution_count": null,
   "metadata": {},
   "outputs": [],
   "source": [
    "# Functions\n",
    "def example_function(param1, param2):\n",
    "    print (\"Inputed values are: \")\n",
    "    print (param1)\n",
    "    print (param2)\n",
    "    return param1 + param2, param1 - param2"
   ]
  },
  {
   "cell_type": "code",
   "execution_count": null,
   "metadata": {},
   "outputs": [],
   "source": [
    "answer1, answer2 = example_function(1,1)\n",
    "print(answer1, answer2)"
   ]
  },
  {
   "cell_type": "code",
   "execution_count": null,
   "metadata": {},
   "outputs": [],
   "source": []
  }
 ],
 "metadata": {
  "kernelspec": {
   "display_name": "Python 3",
   "language": "python",
   "name": "python3"
  },
  "language_info": {
   "codemirror_mode": {
    "name": "ipython",
    "version": 3
   },
   "file_extension": ".py",
   "mimetype": "text/x-python",
   "name": "python",
   "nbconvert_exporter": "python",
   "pygments_lexer": "ipython3",
   "version": "3.6.13"
  }
 },
 "nbformat": 4,
 "nbformat_minor": 2
}
