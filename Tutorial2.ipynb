{
 "cells": [
  {
   "cell_type": "code",
   "execution_count": 1,
   "metadata": {},
   "outputs": [],
   "source": [
    "import numpy as np\n",
    "# For large library, functions are collected in different submodules.\n",
    "# For this import you need to import the submodule.\n",
    "import matplotlib.pyplot as plt\n",
    "import sklearn.linear_model as skl\n",
    "#add this command to snable matplotlib plot in notebook\n",
    "%matplotlib inline"
   ]
  },
  {
   "cell_type": "code",
   "execution_count": 3,
   "metadata": {},
   "outputs": [
    {
     "name": "stdout",
     "output_type": "stream",
     "text": [
      "[-5.         -4.65517241 -4.31034483 -3.96551724 -3.62068966 -3.27586207\n",
      " -2.93103448 -2.5862069  -2.24137931 -1.89655172 -1.55172414 -1.20689655\n",
      " -0.86206897 -0.51724138 -0.17241379  0.17241379  0.51724138  0.86206897\n",
      "  1.20689655  1.55172414  1.89655172  2.24137931  2.5862069   2.93103448\n",
      "  3.27586207  3.62068966  3.96551724  4.31034483  4.65517241  5.        ]\n",
      "[-85.         -64.55471729 -47.19279183 -32.66821108 -20.73496248\n",
      " -11.1470335   -3.65841158   1.97691582   6.00496125   8.67173726\n",
      "  10.22325639  10.90553118  10.96457419  10.64639797  10.19701505\n",
      "   9.86243798   9.88867932  10.52175161  12.00766739  14.59243921\n",
      "  18.52207963  24.04260117  31.4000164   40.84033786  52.60957809\n",
      "  66.95374964  84.11886506 104.3509369  127.89597769 155.        ]\n"
     ]
    }
   ],
   "source": [
    "x = np.linspace(-5,5,30)\n",
    "y = x**3 + x**2 -x +10\n",
    "print(x)\n",
    "print(y)"
   ]
  },
  {
   "cell_type": "markdown",
   "metadata": {},
   "source": [
    "## About matplotlib\n",
    "Remembering the names of all the components in Matplotlib will help you create/revise the figures for your needs easily.\n",
    "![image.png](resources/matplotlib.png)"
   ]
  },
  {
   "cell_type": "markdown",
   "metadata": {},
   "source": [
    "plt.scatter? give you its documentation. Also try shift+tab."
   ]
  },
  {
   "cell_type": "code",
   "execution_count": 6,
   "metadata": {},
   "outputs": [
    {
     "data": {
      "text/plain": [
       "Text(0, 0.5, 'y one')"
      ]
     },
     "execution_count": 6,
     "metadata": {},
     "output_type": "execute_result"
    },
    {
     "data": {
      "image/png": "[encoded data removed]",
      "text/plain": [
       "<Figure size 432x288 with 1 Axes>"
      ]
     },
     "metadata": {
      "needs_background": "light"
     },
     "output_type": "display_data"
    }
   ],
   "source": [
    "#plt.scatter(x, y)\n",
    "plt.plot(x, y)\n",
    "plt.xlabel(\"x label\")\n",
    "plt.ylabel(\"y label\")"
   ]
  },
  {
   "cell_type": "markdown",
   "metadata": {},
   "source": [
    "Scikit-learn expect data to be formatted as a 2D array with shape (n_samples, n_features), so we need to expand the dimensions of our x/y."
   ]
  },
  {
   "cell_type": "code",
   "execution_count": 7,
   "metadata": {},
   "outputs": [
    {
     "name": "stdout",
     "output_type": "stream",
     "text": [
      "(30,)\n",
      "(30,)\n"
     ]
    }
   ],
   "source": [
    "print(x.shape)\n",
    "print(y.shape)"
   ]
  },
  {
   "cell_type": "code",
   "execution_count": 8,
   "metadata": {},
   "outputs": [],
   "source": [
    "x = np.expand_dims(x, axis=1)\n",
    "y = np.expand_dims(y, axis=1)"
   ]
  },
  {
   "cell_type": "code",
   "execution_count": 9,
   "metadata": {},
   "outputs": [
    {
     "name": "stdout",
     "output_type": "stream",
     "text": [
      "(30, 1)\n",
      "(30, 1)\n"
     ]
    }
   ],
   "source": [
    "print(x.shape)\n",
    "print(y.shape)"
   ]
  },
  {
   "cell_type": "code",
   "execution_count": 10,
   "metadata": {},
   "outputs": [
    {
     "data": {
      "text/plain": [
       "array([[-5.        ],\n",
       "       [-4.65517241],\n",
       "       [-4.31034483],\n",
       "       [-3.96551724],\n",
       "       [-3.62068966],\n",
       "       [-3.27586207],\n",
       "       [-2.93103448],\n",
       "       [-2.5862069 ],\n",
       "       [-2.24137931],\n",
       "       [-1.89655172],\n",
       "       [-1.55172414],\n",
       "       [-1.20689655],\n",
       "       [-0.86206897],\n",
       "       [-0.51724138],\n",
       "       [-0.17241379],\n",
       "       [ 0.17241379],\n",
       "       [ 0.51724138],\n",
       "       [ 0.86206897],\n",
       "       [ 1.20689655],\n",
       "       [ 1.55172414],\n",
       "       [ 1.89655172],\n",
       "       [ 2.24137931],\n",
       "       [ 2.5862069 ],\n",
       "       [ 2.93103448],\n",
       "       [ 3.27586207],\n",
       "       [ 3.62068966],\n",
       "       [ 3.96551724],\n",
       "       [ 4.31034483],\n",
       "       [ 4.65517241],\n",
       "       [ 5.        ]])"
      ]
     },
     "execution_count": 10,
     "metadata": {},
     "output_type": "execute_result"
    }
   ],
   "source": [
    "x"
   ]
  },
  {
   "cell_type": "markdown",
   "metadata": {},
   "source": [
    "In this demo we can use several linear models on simulated data.\n",
    "See Sklearn documentation for details."
   ]
  },
  {
   "cell_type": "code",
   "execution_count": 13,
   "metadata": {
    "scrolled": true
   },
   "outputs": [
    {
     "name": "stdout",
     "output_type": "stream",
     "text": [
      "[[-65.58250304]\n",
      " [-65.58250304]\n",
      " [-48.1385734 ]\n",
      " [-33.53198846]\n",
      " [-21.51673569]\n",
      " [-11.84680252]\n",
      " [ -4.27617642]\n",
      " [  1.44115517]\n",
      " [  5.55120478]\n",
      " [  8.29998497]\n",
      " [  9.93350828]\n",
      " [ 10.69778725]\n",
      " [ 10.83883445]\n",
      " [ 10.6026624 ]\n",
      " [ 10.23528367]\n",
      " [  9.98271078]\n",
      " [ 10.09095631]\n",
      " [ 10.80603277]\n",
      " [ 12.37395274]\n",
      " [ 15.04072874]\n",
      " [ 19.05237334]\n",
      " [ 24.65489907]\n",
      " [ 32.09431848]\n",
      " [ 41.61664412]\n",
      " [ 53.46788853]\n",
      " [ 67.89406426]\n",
      " [ 85.14118387]\n",
      " [105.45525988]\n",
      " [129.08230486]\n",
      " [129.08230486]]\n"
     ]
    }
   ],
   "source": [
    "# Basic procedure of using a classifier\n",
    "# Fit: training on the data (features + labels).\n",
    "# Predict: predicting on the features\n",
    "# model = skl.LinearRegression()\n",
    "import sklearn.neighbors\n",
    "model = sklearn.neighbors.KNeighborsRegressor(n_neighbors=3)\n",
    "model.fit(x, y)\n",
    "predict_y = model.predict(x)\n",
    "print(predict_y)"
   ]
  },
  {
   "cell_type": "code",
   "execution_count": 14,
   "metadata": {},
   "outputs": [
    {
     "data": {
      "image/png": "[encoded data removed]",
      "text/plain": [
       "<Figure size 432x288 with 1 Axes>"
      ]
     },
     "metadata": {
      "needs_background": "light"
     },
     "output_type": "display_data"
    }
   ],
   "source": [
    "plt.scatter(x,y)\n",
    "plt.plot(x,predict_y) \n",
    "plt.show()"
   ]
  },
  {
   "cell_type": "code",
   "execution_count": null,
   "metadata": {},
   "outputs": [],
   "source": []
  }
 ],
 "metadata": {
  "kernelspec": {
   "display_name": "Python 3",
   "language": "python",
   "name": "python3"
  },
  "language_info": {
   "codemirror_mode": {
    "name": "ipython",
    "version": 3
   },
   "file_extension": ".py",
   "mimetype": "text/x-python",
   "name": "python",
   "nbconvert_exporter": "python",
   "pygments_lexer": "ipython3",
   "version": "3.6.13"
  }
 },
 "nbformat": 4,
 "nbformat_minor": 2
}
