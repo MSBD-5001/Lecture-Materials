{
 "cells": [
  {
   "cell_type": "code",
   "execution_count": 1,
   "metadata": {},
   "outputs": [],
   "source": [
    "import numpy as np\n",
    "# For large library, functions are collected in different submodules.\n",
    "# For this import you need to import the submodule.\n",
    "import matplotlib.pyplot as plt\n",
    "import sklearn.linear_model as skl\n",
    "#add this command to snable matplotlib plot in notebook\n",
    "%matplotlib inline"
   ]
  },
  {
   "cell_type": "code",
   "execution_count": 2,
   "metadata": {},
   "outputs": [
    {
     "name": "stdout",
     "output_type": "stream",
     "text": [
      "[-5.         -4.65517241 -4.31034483 -3.96551724 -3.62068966 -3.27586207\n",
      " -2.93103448 -2.5862069  -2.24137931 -1.89655172 -1.55172414 -1.20689655\n",
      " -0.86206897 -0.51724138 -0.17241379  0.17241379  0.51724138  0.86206897\n",
      "  1.20689655  1.55172414  1.89655172  2.24137931  2.5862069   2.93103448\n",
      "  3.27586207  3.62068966  3.96551724  4.31034483  4.65517241  5.        ]\n",
      "[-85.         -64.55471729 -47.19279183 -32.66821108 -20.73496248\n",
      " -11.1470335   -3.65841158   1.97691582   6.00496125   8.67173726\n",
      "  10.22325639  10.90553118  10.96457419  10.64639797  10.19701505\n",
      "   9.86243798   9.88867932  10.52175161  12.00766739  14.59243921\n",
      "  18.52207963  24.04260117  31.4000164   40.84033786  52.60957809\n",
      "  66.95374964  84.11886506 104.3509369  127.89597769 155.        ]\n"
     ]
    }
   ],
   "source": [
    "x = np.linspace(-5,5,30)\n",
    "y = x**3 + x**2 -x +10\n",
    "print(x)\n",
    "print(y)"
   ]
  },
  {
   "cell_type": "markdown",
   "metadata": {},
   "source": [
    "## About matplotlib\n",
    "Remembering the names of all the components in Matplotlib will help you create/revise the figures for your needs easily.\n",
    "![image.png](resources/matplotlib.png)"
   ]
  },
  {
   "cell_type": "markdown",
   "metadata": {},
   "source": [
    "plt.scatter? give you its documentation. Also try shift+tab."
   ]
  },
  {
   "cell_type": "code",
   "execution_count": 3,
   "metadata": {},
   "outputs": [
    {
     "data": {
      "text/plain": [
       "Text(0,0.5,'y label')"
      ]
     },
     "execution_count": 3,
     "metadata": {},
     "output_type": "execute_result"
    },
    {
     "data": {
      "image/png": "[encoded data removed]",
      "text/plain": [
       "<Figure size 432x288 with 1 Axes>"
      ]
     },
     "metadata": {},
     "output_type": "display_data"
    }
   ],
   "source": [
    "plt.scatter(x, y)\n",
    "#plt.plot(x, y)\n",
    "plt.xlabel(\"x label\")\n",
    "plt.ylabel(\"y label\")"
   ]
  },
  {
   "cell_type": "markdown",
   "metadata": {},
   "source": [
    "Scikit-learn expect data to be formatted as a 2D array with shape (n_samples, n_features), so we need to expand the dimensions of our x/y."
   ]
  },
  {
   "cell_type": "code",
   "execution_count": 4,
   "metadata": {},
   "outputs": [
    {
     "name": "stdout",
     "output_type": "stream",
     "text": [
      "(30,)\n",
      "(30,)\n"
     ]
    }
   ],
   "source": [
    "print(x.shape)\n",
    "print(y.shape)"
   ]
  },
  {
   "cell_type": "code",
   "execution_count": 5,
   "metadata": {},
   "outputs": [],
   "source": [
    "x = np.expand_dims(x, axis=1)\n",
    "y = np.expand_dims(y, axis=1)"
   ]
  },
  {
   "cell_type": "code",
   "execution_count": 6,
   "metadata": {},
   "outputs": [
    {
     "name": "stdout",
     "output_type": "stream",
     "text": [
      "(30, 1)\n",
      "(30, 1)\n"
     ]
    }
   ],
   "source": [
    "print(x.shape)\n",
    "print(y.shape)"
   ]
  },
  {
   "cell_type": "code",
   "execution_count": 9,
   "metadata": {},
   "outputs": [
    {
     "data": {
      "text/plain": [
       "array([[-5.        ],\n",
       "       [-4.65517241],\n",
       "       [-4.31034483],\n",
       "       [-3.96551724],\n",
       "       [-3.62068966],\n",
       "       [-3.27586207],\n",
       "       [-2.93103448],\n",
       "       [-2.5862069 ],\n",
       "       [-2.24137931],\n",
       "       [-1.89655172],\n",
       "       [-1.55172414],\n",
       "       [-1.20689655],\n",
       "       [-0.86206897],\n",
       "       [-0.51724138],\n",
       "       [-0.17241379],\n",
       "       [ 0.17241379],\n",
       "       [ 0.51724138],\n",
       "       [ 0.86206897],\n",
       "       [ 1.20689655],\n",
       "       [ 1.55172414],\n",
       "       [ 1.89655172],\n",
       "       [ 2.24137931],\n",
       "       [ 2.5862069 ],\n",
       "       [ 2.93103448],\n",
       "       [ 3.27586207],\n",
       "       [ 3.62068966],\n",
       "       [ 3.96551724],\n",
       "       [ 4.31034483],\n",
       "       [ 4.65517241],\n",
       "       [ 5.        ]])"
      ]
     },
     "execution_count": 9,
     "metadata": {},
     "output_type": "execute_result"
    }
   ],
   "source": [
    "x"
   ]
  },
  {
   "cell_type": "markdown",
   "metadata": {},
   "source": [
    "In this demo we can use several linear models on simulated data.\n",
    "See Sklearn documentation for details."
   ]
  },
  {
   "cell_type": "code",
   "execution_count": 7,
   "metadata": {
    "scrolled": true
   },
   "outputs": [
    {
     "name": "stdout",
     "output_type": "stream",
     "text": [
      "[[-56.14546175]\n",
      " [-50.96935777]\n",
      " [-45.79325379]\n",
      " [-40.61714981]\n",
      " [-35.44104583]\n",
      " [-30.26494185]\n",
      " [-25.08883786]\n",
      " [-19.91273388]\n",
      " [-14.7366299 ]\n",
      " [ -9.56052592]\n",
      " [ -4.38442194]\n",
      " [  0.79168204]\n",
      " [  5.96778602]\n",
      " [ 11.14389001]\n",
      " [ 16.31999399]\n",
      " [ 21.49609797]\n",
      " [ 26.67220195]\n",
      " [ 31.84830593]\n",
      " [ 37.02440991]\n",
      " [ 42.20051389]\n",
      " [ 47.37661787]\n",
      " [ 52.55272186]\n",
      " [ 57.72882584]\n",
      " [ 62.90492982]\n",
      " [ 68.0810338 ]\n",
      " [ 73.25713778]\n",
      " [ 78.43324176]\n",
      " [ 83.60934574]\n",
      " [ 88.78544972]\n",
      " [ 93.96155371]]\n"
     ]
    }
   ],
   "source": [
    "# Basic procedure of using a classifier\n",
    "# Fit: training on the data (features + labels).\n",
    "# Predict: predicting on the features\n",
    "model = skl.LinearRegression()\n",
    "# import sklearn.neighbors\n",
    "# model = sklearn.neighbors.KNeighborsRegressor(n_neighbors=3)\n",
    "model.fit(x, y)\n",
    "predict_y = model.predict(x)\n",
    "print(predict_y)"
   ]
  },
  {
   "cell_type": "code",
   "execution_count": 8,
   "metadata": {},
   "outputs": [
    {
     "data": {
      "image/png": "[encoded data removed]",
      "text/plain": [
       "<Figure size 432x288 with 1 Axes>"
      ]
     },
     "metadata": {},
     "output_type": "display_data"
    }
   ],
   "source": [
    "plt.scatter(x,y)\n",
    "plt.plot(x,predict_y)\n",
    "plt.show()"
   ]
  }
 ],
 "metadata": {
  "kernelspec": {
   "display_name": "Python 3",
   "language": "python",
   "name": "python3"
  },
  "language_info": {
   "codemirror_mode": {
    "name": "ipython",
    "version": 3
   },
   "file_extension": ".py",
   "mimetype": "text/x-python",
   "name": "python",
   "nbconvert_exporter": "python",
   "pygments_lexer": "ipython3",
   "version": "3.6.13"
  }
 },
 "nbformat": 4,
 "nbformat_minor": 2
}
