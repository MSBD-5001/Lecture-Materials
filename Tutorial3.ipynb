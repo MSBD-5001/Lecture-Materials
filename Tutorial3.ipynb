{
 "cells": [
  {
   "cell_type": "code",
   "execution_count": 1,
   "metadata": {},
   "outputs": [],
   "source": [
    "import numpy as np\n",
    "import matplotlib.pyplot as plt\n",
    "import sklearn.linear_model as skl\n",
    "import pandas as pd\n",
    "%matplotlib inline"
   ]
  },
  {
   "cell_type": "code",
   "execution_count": 2,
   "metadata": {},
   "outputs": [
    {
     "name": "stdout",
     "output_type": "stream",
     "text": [
      "889\n"
     ]
    }
   ],
   "source": [
    "# loading training/testing data\n",
    "all_data = pd.read_csv(\"preprocessed_data.csv\")\n",
    "print(len(all_data))"
   ]
  },
  {
   "cell_type": "code",
   "execution_count": 3,
   "metadata": {},
   "outputs": [],
   "source": [
    "# Split data into training data and testing data.\n",
    "training_data = all_data.loc[ : int(len(all_data)*0.8), :]\n",
    "testing_data = all_data.loc[int(len(all_data)*0.8) : , :]"
   ]
  },
  {
   "cell_type": "code",
   "execution_count": 4,
   "metadata": {},
   "outputs": [
    {
     "name": "stdout",
     "output_type": "stream",
     "text": [
      "training accuracy: 0.8089887640449438\n",
      "testing accuracy: 0.8202247191011236\n"
     ]
    }
   ],
   "source": [
    "model = skl.LogisticRegression()\n",
    "model.fit(training_data.drop([\"Survived\"], axis = 1), training_data[\"Survived\"])\n",
    "predict_y = model.predict(training_data.drop([\"Survived\"], axis = 1))\n",
    "print(\"training accuracy:\", (predict_y == training_data[\"Survived\"]).sum()/ len(predict_y))\n",
    "\n",
    "\n",
    "predict_y = model.predict(testing_data.drop([\"Survived\"], axis = 1))\n",
    "print(\"testing accuracy:\", (predict_y == testing_data[\"Survived\"]).sum()/ len(predict_y))"
   ]
  },
  {
   "cell_type": "code",
   "execution_count": 5,
   "metadata": {},
   "outputs": [
    {
     "name": "stdout",
     "output_type": "stream",
     "text": [
      "training accuracy: 0.9662921348314607\n",
      "testing accuracy: 0.8146067415730337\n"
     ]
    }
   ],
   "source": [
    "# Try some complex model\n",
    "from sklearn.ensemble import RandomForestClassifier\n",
    "\n",
    "model = RandomForestClassifier()\n",
    "model.fit(training_data.drop([\"Survived\"], axis = 1), training_data[\"Survived\"])\n",
    "predict_y = model.predict(training_data.drop([\"Survived\"], axis = 1))\n",
    "print(\"training accuracy:\", (predict_y == training_data[\"Survived\"]).sum()/ len(predict_y))\n",
    "\n",
    "\n",
    "predict_y = model.predict(testing_data.drop([\"Survived\"], axis = 1))\n",
    "print(\"testing accuracy:\", (predict_y == testing_data[\"Survived\"]).sum()/ len(predict_y))"
   ]
  },
  {
   "cell_type": "code",
   "execution_count": null,
   "metadata": {},
   "outputs": [],
   "source": []
  }
 ],
 "metadata": {
  "kernelspec": {
   "display_name": "Python 3",
   "language": "python",
   "name": "python3"
  },
  "language_info": {
   "codemirror_mode": {
    "name": "ipython",
    "version": 3
   },
   "file_extension": ".py",
   "mimetype": "text/x-python",
   "name": "python",
   "nbconvert_exporter": "python",
   "pygments_lexer": "ipython3",
   "version": "3.6.13"
  }
 },
 "nbformat": 4,
 "nbformat_minor": 2
}
